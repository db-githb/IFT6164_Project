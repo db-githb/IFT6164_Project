{
 "cells": [
  {
   "cell_type": "code",
   "execution_count": 3,
   "id": "4e5aa57b",
   "metadata": {
    "scrolled": false
   },
   "outputs": [
    {
     "name": "stdout",
     "output_type": "stream",
     "text": [
      "['/project/6022344/lauh/stylegan2-ada-pytorch', '', '/cvmfs/soft.computecanada.ca/easybuild/python/site-packages', '/cvmfs/soft.computecanada.ca/custom/python/site-packages', '/cvmfs/soft.computecanada.ca/easybuild/software/2020/avx2/Core/python/3.8.10/lib/python38.zip', '/cvmfs/soft.computecanada.ca/easybuild/software/2020/avx2/Core/python/3.8.10/lib/python3.8', '/cvmfs/soft.computecanada.ca/easybuild/software/2020/avx2/Core/python/3.8.10/lib/python3.8/lib-dynload', '/home/lauh/py37/lib/python3.8/site-packages', '/cvmfs/soft.computecanada.ca/easybuild/software/2020/avx2/Core/scipy-stack/2023a/lib/python3.8/site-packages', '/cvmfs/soft.computecanada.ca/easybuild/software/2020/avx2/Core/ipykernel/2023a/lib/python3.8/site-packages', '/home/lauh/projects/def-gambsseb/lauh/stylegan2-ada-pytorch', '/home/lauh/projects/def-gambsseb/lauh/stylegan2-ada-pytorch']\n",
      "Setting up PyTorch plugin \"bias_act_plugin\"... Done.\n",
      "Setting up PyTorch plugin \"upfirdn2d_plugin\"... Done.\n"
     ]
    }
   ],
   "source": [
    "import torch\n",
    "import pickle\n",
    "import os\n",
    "import sys\n",
    "import scipy\n",
    "from torchvision.utils import save_image\n",
    "import dnnlib\n",
    "import numpy as np\n",
    "\n",
    "MODEL_PTH= '/home/lauh/projects/def-gambsseb/lauh/latent_space/00000-cifar10_mini-cond-cifar/network-snapshot-004032.pkl'\n",
    "#save the literal filepath to both directories as strings\n",
    "tu_path = os.path.join('/home/lauh/projects/def-gambsseb/lauh','stylegan2-ada-pytorch')#,'torch_utils')\n",
    "dnnlib_path = os.path.join('/home/lauh/projects/def-gambsseb/lauh','stylegan2-ada-pytorch')#,'dnnlib')\n",
    "\n",
    "#add those strings to python path\n",
    "sys.path.append(tu_path)\n",
    "sys.path.append(dnnlib_path)\n",
    "print(sys.path)\n",
    "\n",
    "with open('/home/lauh/projects/def-gambsseb/lauh/latent_space/00000-cifar10_mini-cond-cifar/network-snapshot-004032.pkl', 'rb') as f:\n",
    "    model =  pickle.load(f)\n",
    "G_ema = model['G_ema'].cuda() \n",
    "G = model['G'].cuda()  # torch.nn.Module\n",
    "D = model['D'].cuda()\n",
    "\"\"\"\n",
    "for i in range(10):\n",
    "    c= [0 for i in range(10)]\n",
    "    z = torch.randn([1, G.z_dim]).cuda()    # latent codes\n",
    "    c[2]=1.\n",
    "    print(c)\n",
    "    c = torch.tensor([c]).cuda()                                # class labels (not used in this example)\n",
    "    img = G_ema(z, c, noise_mode='const')\n",
    "    #w = G_ema.mapping(z, c, truncation_psi=1)#, truncation_cutoff=8)\n",
    "    #img = G_ema.synthesis((w), noise_mode='random')#, force_fp32=True)\n",
    "    save_image(img, 'img{}.png'.format(i))\n",
    "    \"\"\"\n",
    "\n",
    "training_set_kwargs = dnnlib.EasyDict(class_name='training.dataset.ImageFolderDataset', path='/scratch/lauh/cifar10_membership.zip', use_labels=True, max_size=None, xflip=False)\n",
    "training_set = dnnlib.util.construct_class_by_name(**training_set_kwargs)\n",
    "member= torch.utils.data.Subset(training_set, list(range(5000)))\n",
    "non_member= torch.utils.data.Subset(training_set, list(range(5000, 10000)))\n",
    "\n",
    "member_loader= torch.utils.data.DataLoader(member, 32, False)\n",
    "non_member_loader= torch.utils.data.DataLoader(non_member, 32, False)\n",
    "\n",
    "preds_member=[]\n",
    "for img,c in member_loader:\n",
    "    pred= D(img.cuda(),c.cuda()).detach().cpu().numpy()\n",
    "    preds_member.append(pred)\n",
    "\n",
    "preds_non_member=[]\n",
    "for img,c in non_member_loader:\n",
    "    pred= D(img.cuda(),c.cuda()).detach().cpu().numpy()\n",
    "    preds_non_member.append(pred)\n",
    "\n",
    "preds_member= np.vstack(preds_member)\n",
    "preds_non_member= np.vstack(preds_non_member)"
   ]
  },
  {
   "cell_type": "code",
   "execution_count": 4,
   "id": "0d4640d1",
   "metadata": {},
   "outputs": [
    {
     "data": {
      "image/png": "[encoded data removed]",
      "text/plain": [
       "<Figure size 640x480 with 1 Axes>"
      ]
     },
     "metadata": {},
     "output_type": "display_data"
    }
   ],
   "source": [
    "import matplotlib.pyplot as plt\n",
    "\n",
    "\n",
    "plt.hist(preds_member, label='member', bins=100, alpha=.5)\n",
    "plt.hist(preds_non_member, label='non_member', bins=100, alpha=.5)\n",
    "plt.legend()\n",
    "plt.show()"
   ]
  },
  {
   "cell_type": "code",
   "execution_count": 5,
   "id": "61dc93a5",
   "metadata": {},
   "outputs": [],
   "source": [
    "import pandas as pd\n",
    "df_member=pd.DataFrame({'pred':preds_member[:,0], 'member':[1 for i in range(len(preds_member))]})\n",
    "df_non_member=pd.DataFrame({'pred':preds_non_member[:,0], 'member':[0 for i in range(len(preds_member))]})\n",
    "df= pd.concat([df_member, df_non_member], axis=0, ignore_index=True)"
   ]
  },
  {
   "cell_type": "code",
   "execution_count": 6,
   "id": "4e917428",
   "metadata": {},
   "outputs": [
    {
     "data": {
      "text/plain": [
       "0.71"
      ]
     },
     "execution_count": 6,
     "metadata": {},
     "output_type": "execute_result"
    }
   ],
   "source": [
    "threshold= df.pred.quantile(.99)\n",
    "df.loc[df.pred>=threshold, 'member'].mean()"
   ]
  },
  {
   "cell_type": "markdown",
   "id": "6d9bb030",
   "metadata": {},
   "source": [
    "### For images with the top 1% biggest loss, 71% of them are members"
   ]
  },
  {
   "cell_type": "code",
   "execution_count": 7,
   "id": "50c5f802",
   "metadata": {},
   "outputs": [],
   "source": [
    "member_idx= df.loc[(df.pred>=threshold)&(df.member==1),:].index\n",
    "member_idx=member_idx.tolist()"
   ]
  },
  {
   "cell_type": "markdown",
   "id": "015b6b4a",
   "metadata": {},
   "source": [
    "[   8,  103,  125,  216,  238,  292,  616,  631,  660,  796,  935,\n",
    "             958, 1064, 1073, 1210, 1228, 1238, 1242, 1259, 1317, 1338, 1420,\n",
    "            1447, 1453, 1485, 1549, 1807, 1876, 2119, 2147, 2152, 2177, 2179,\n",
    "            2226, 2299, 2320, 2369, 2434, 2622, 2657, 2667, 2690, 2721, 2874,\n",
    "            2893, 2958, 3098, 3139, 3180, 3277, 3369, 3401, 3419, 3536, 3574,\n",
    "            3589, 3674, 3861, 4077, 4162, 4175, 4273, 4295, 4570, 4611, 4654,\n",
    "            4721, 4731, 4843, 4888, 4999]"
   ]
  },
  {
   "cell_type": "code",
   "execution_count": 8,
   "id": "be333a09",
   "metadata": {},
   "outputs": [],
   "source": [
    "def get_img_id(img_idx):\n",
    "    img_id=[]\n",
    "    for img_nb in img_idx:\n",
    "        folder_nb= img_nb//1000\n",
    "        img_id.append(format(folder_nb, '05d')+ '/img'+format(img_nb, '08d')+'.png')\n",
    "    return img_id\n",
    "\n",
    "img_id= get_img_id(member_idx)"
   ]
  },
  {
   "cell_type": "code",
   "execution_count": 9,
   "id": "875b8498",
   "metadata": {},
   "outputs": [],
   "source": [
    "import json\n",
    "  \n",
    "# Opening JSON file\n",
    "with open('/scratch/lauh/cifar10_mini/dataset.json') as f:\n",
    "    labels_dict = json.load(f)\n",
    "  \n",
    "label_df=pd.DataFrame(labels_dict['labels'], columns=['id', 'label'])"
   ]
  },
  {
   "cell_type": "code",
   "execution_count": 10,
   "id": "eb7ade48",
   "metadata": {},
   "outputs": [
    {
     "data": {
      "text/html": [
       "<div>\n",
       "<style scoped>\n",
       "    .dataframe tbody tr th:only-of-type {\n",
       "        vertical-align: middle;\n",
       "    }\n",
       "\n",
       "    .dataframe tbody tr th {\n",
       "        vertical-align: top;\n",
       "    }\n",
       "\n",
       "    .dataframe thead th {\n",
       "        text-align: right;\n",
       "    }\n",
       "</style>\n",
       "<table border=\"1\" class=\"dataframe\">\n",
       "  <thead>\n",
       "    <tr style=\"text-align: right;\">\n",
       "      <th></th>\n",
       "      <th>id</th>\n",
       "      <th>label</th>\n",
       "    </tr>\n",
       "  </thead>\n",
       "  <tbody>\n",
       "    <tr>\n",
       "      <th>8</th>\n",
       "      <td>00000/img00000008.png</td>\n",
       "      <td>8</td>\n",
       "    </tr>\n",
       "    <tr>\n",
       "      <th>103</th>\n",
       "      <td>00000/img00000103.png</td>\n",
       "      <td>6</td>\n",
       "    </tr>\n",
       "    <tr>\n",
       "      <th>125</th>\n",
       "      <td>00000/img00000125.png</td>\n",
       "      <td>6</td>\n",
       "    </tr>\n",
       "    <tr>\n",
       "      <th>216</th>\n",
       "      <td>00000/img00000216.png</td>\n",
       "      <td>8</td>\n",
       "    </tr>\n",
       "    <tr>\n",
       "      <th>238</th>\n",
       "      <td>00000/img00000238.png</td>\n",
       "      <td>1</td>\n",
       "    </tr>\n",
       "    <tr>\n",
       "      <th>...</th>\n",
       "      <td>...</td>\n",
       "      <td>...</td>\n",
       "    </tr>\n",
       "    <tr>\n",
       "      <th>4721</th>\n",
       "      <td>00004/img00004721.png</td>\n",
       "      <td>0</td>\n",
       "    </tr>\n",
       "    <tr>\n",
       "      <th>4731</th>\n",
       "      <td>00004/img00004731.png</td>\n",
       "      <td>6</td>\n",
       "    </tr>\n",
       "    <tr>\n",
       "      <th>4843</th>\n",
       "      <td>00004/img00004843.png</td>\n",
       "      <td>6</td>\n",
       "    </tr>\n",
       "    <tr>\n",
       "      <th>4888</th>\n",
       "      <td>00004/img00004888.png</td>\n",
       "      <td>2</td>\n",
       "    </tr>\n",
       "    <tr>\n",
       "      <th>4999</th>\n",
       "      <td>00004/img00004999.png</td>\n",
       "      <td>6</td>\n",
       "    </tr>\n",
       "  </tbody>\n",
       "</table>\n",
       "<p>71 rows × 2 columns</p>\n",
       "</div>"
      ],
      "text/plain": [
       "                         id  label\n",
       "8     00000/img00000008.png      8\n",
       "103   00000/img00000103.png      6\n",
       "125   00000/img00000125.png      6\n",
       "216   00000/img00000216.png      8\n",
       "238   00000/img00000238.png      1\n",
       "...                     ...    ...\n",
       "4721  00004/img00004721.png      0\n",
       "4731  00004/img00004731.png      6\n",
       "4843  00004/img00004843.png      6\n",
       "4888  00004/img00004888.png      2\n",
       "4999  00004/img00004999.png      6\n",
       "\n",
       "[71 rows x 2 columns]"
      ]
     },
     "execution_count": 10,
     "metadata": {},
     "output_type": "execute_result"
    }
   ],
   "source": [
    "member_df= label_df.loc[label_df.id.isin(img_id),:]\n",
    "member_df"
   ]
  },
  {
   "cell_type": "code",
   "execution_count": null,
   "id": "415d5574",
   "metadata": {},
   "outputs": [],
   "source": []
  }
 ],
 "metadata": {
  "kernelspec": {
   "display_name": "Python 3 (ipykernel)",
   "language": "python",
   "name": "python3"
  },
  "language_info": {
   "codemirror_mode": {
    "name": "ipython",
    "version": 3
   },
   "file_extension": ".py",
   "mimetype": "text/x-python",
   "name": "python",
   "nbconvert_exporter": "python",
   "pygments_lexer": "ipython3",
   "version": "3.8.10"
  }
 },
 "nbformat": 4,
 "nbformat_minor": 5
}
